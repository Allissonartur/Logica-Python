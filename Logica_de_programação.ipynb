{
  "nbformat": 4,
  "nbformat_minor": 0,
  "metadata": {
    "colab": {
      "name": "Logica de programação.ipynb",
      "provenance": [],
      "collapsed_sections": [],
      "include_colab_link": true
    },
    "kernelspec": {
      "name": "python3",
      "display_name": "Python 3"
    },
    "language_info": {
      "name": "python"
    }
  },
  "cells": [
    {
      "cell_type": "markdown",
      "metadata": {
        "id": "view-in-github",
        "colab_type": "text"
      },
      "source": [
        "<a href=\"https://colab.research.google.com/github/Allissonartur/Logica-Python/blob/main/Logica_de_programa%C3%A7%C3%A3o.ipynb\" target=\"_parent\"><img src=\"https://colab.research.google.com/assets/colab-badge.svg\" alt=\"Open In Colab\"/></a>"
      ]
    },
    {
      "cell_type": "markdown",
      "source": [
        "## Uma saudacao"
      ],
      "metadata": {
        "id": "Gk4YS8blpWTM"
      }
    },
    {
      "cell_type": "code",
      "source": [
        "from google.colab import drive\n",
        "drive.mount('/content/drive')"
      ],
      "metadata": {
        "id": "mPlPRTvqYgxp"
      },
      "execution_count": null,
      "outputs": []
    },
    {
      "cell_type": "code",
      "source": [
        "def saudacao ():  \n",
        "  nome = input('Qual o seu nome? ')\n",
        "  idade = input('Qual a sua idade? ')\n",
        "  cidade = input('Onde voce mora? ')\n",
        "  trabalho = input('Onde voce trabalha? ')\n",
        "  print(f'Ola {nome}, voce tem {idade}, mora em {cidade} e trabalha no {trabalho}')"
      ],
      "metadata": {
        "id": "w8S-Ni-Lpbdy"
      },
      "execution_count": null,
      "outputs": []
    },
    {
      "cell_type": "code",
      "source": [
        "saudacao()"
      ],
      "metadata": {
        "colab": {
          "base_uri": "https://localhost:8080/"
        },
        "id": "_QQbH3G7qkb1",
        "outputId": "26bc8d21-d805-4159-c069-5c368c0c04d8"
      },
      "execution_count": null,
      "outputs": [
        {
          "output_type": "stream",
          "name": "stdout",
          "text": [
            "Qual o seu nome? nath\n",
            "Qual a sua idade? 22\n",
            "Onde voce mora? sp\n",
            "Onde voce trabalha? bradas\n",
            "Ola nath, voce tem 22, mora em sp e trabalha no bradas\n"
          ]
        }
      ]
    },
    {
      "cell_type": "markdown",
      "source": [
        "# Condição\n"
      ],
      "metadata": {
        "id": "XuRvFIOY98Ei"
      }
    },
    {
      "cell_type": "code",
      "source": [
        "idade = 16\n",
        "\n",
        "\n",
        "def verifica_se_e_maior_de(idade): \n",
        "    if idade>=18:\n",
        "      print('A pessoa é maior de idade')\n",
        "    else:\n",
        "      print('A pessoa nao é maior de idade')"
      ],
      "metadata": {
        "id": "MJNb79qN9_AI"
      },
      "execution_count": null,
      "outputs": []
    },
    {
      "cell_type": "code",
      "source": [
        "verifica_se_e_maior_de(idade)"
      ],
      "metadata": {
        "colab": {
          "base_uri": "https://localhost:8080/"
        },
        "id": "XUyhdBMC-zG4",
        "outputId": "332d2453-5460-43d6-ff9f-5fd59ca98e82"
      },
      "execution_count": null,
      "outputs": [
        {
          "output_type": "stream",
          "name": "stdout",
          "text": [
            "A pessoa nao é maior de idade\n"
          ]
        }
      ]
    },
    {
      "cell_type": "markdown",
      "source": [
        "# Convertendo tipo para inteiro\n"
      ],
      "metadata": {
        "id": "tA_IG_QODLK8"
      }
    },
    {
      "cell_type": "code",
      "source": [
        "def verifica_se_é_maior_de_parametro():\n",
        "  idade = input('Qual a sua idade? ')\n",
        "  idade = int(idade)\n",
        "  if idade >= 18:\n",
        "      print('E maior de idade')\n",
        "  else:\n",
        "      print('Nao e maior de idade')"
      ],
      "metadata": {
        "id": "U1UMTtmHDOzS"
      },
      "execution_count": null,
      "outputs": []
    },
    {
      "cell_type": "code",
      "source": [
        "verifica_se_é_maior_de_parametro()"
      ],
      "metadata": {
        "colab": {
          "base_uri": "https://localhost:8080/"
        },
        "id": "nNfy2LI7EU91",
        "outputId": "10c3d0bc-2812-4231-9ad5-ce0b7c8df80d"
      },
      "execution_count": null,
      "outputs": [
        {
          "output_type": "stream",
          "name": "stdout",
          "text": [
            "Qual a sua idade? 22\n",
            "E maior de idade\n"
          ]
        }
      ]
    },
    {
      "cell_type": "markdown",
      "source": [
        "# Lista\n"
      ],
      "metadata": {
        "id": "HkYeMjSc-RRR"
      }
    },
    {
      "cell_type": "code",
      "source": [
        "idades = [ 13, 37, 30, 9, 45, 5 ]\n",
        "type (idades)"
      ],
      "metadata": {
        "colab": {
          "base_uri": "https://localhost:8080/"
        },
        "id": "Ec7bLYeN-UiC",
        "outputId": "7813e6e9-5833-42f9-9261-d4802483464c"
      },
      "execution_count": null,
      "outputs": [
        {
          "output_type": "execute_result",
          "data": {
            "text/plain": [
              "list"
            ]
          },
          "metadata": {},
          "execution_count": 11
        }
      ]
    },
    {
      "cell_type": "code",
      "source": [
        "idades"
      ],
      "metadata": {
        "colab": {
          "base_uri": "https://localhost:8080/"
        },
        "id": "HuV5JGW4-ry7",
        "outputId": "4cc7aeda-2bc9-4c3b-cceb-4ae78f0caf73"
      },
      "execution_count": null,
      "outputs": [
        {
          "output_type": "execute_result",
          "data": {
            "text/plain": [
              "[13, 37, 30, 9, 45, 5]"
            ]
          },
          "metadata": {},
          "execution_count": 12
        }
      ]
    },
    {
      "cell_type": "code",
      "source": [
        "def verifica_se_é_maior_de(idade): \n",
        "    if idade>=18:\n",
        "      print(f' {idade} anos de idade, a pessoa é maior de idade')\n",
        "    else:\n",
        "      print(f' {idade} anos de idade, a pessoa nao é maior de idade')\n",
        "\n",
        "for idade in idades:\n",
        "    verifica_se_é_maior_de(idade)"
      ],
      "metadata": {
        "colab": {
          "base_uri": "https://localhost:8080/"
        },
        "id": "BckoAiB-_GMw",
        "outputId": "e8e0ca6a-08fb-4409-fb65-d0aa8a5290d2"
      },
      "execution_count": null,
      "outputs": [
        {
          "output_type": "stream",
          "name": "stdout",
          "text": [
            " 13 anos de idade, a pessoa nao é maior de idade\n",
            " 37 anos de idade, a pessoa é maior de idade\n",
            " 30 anos de idade, a pessoa é maior de idade\n",
            " 9 anos de idade, a pessoa nao é maior de idade\n",
            " 45 anos de idade, a pessoa é maior de idade\n",
            " 5 anos de idade, a pessoa nao é maior de idade\n"
          ]
        }
      ]
    },
    {
      "cell_type": "code",
      "source": [
        "def verifica_se_é_maior_de(idades):\n",
        " for idade in idades:\n",
        "    if idade>=18:\n",
        "      print(f' {idade} anos de idade, a pessoa é maior de idade')\n",
        "    else:\n",
        "      print(f' {idade} anos de idade, a pessoa nao é maior de idade')\n",
        "\n",
        "verifica_se_é_maior_de(idades)"
      ],
      "metadata": {
        "colab": {
          "base_uri": "https://localhost:8080/"
        },
        "id": "RWJC1THJ_eNY",
        "outputId": "5a4a8ff2-220d-4e0f-c648-842464c7959b"
      },
      "execution_count": null,
      "outputs": [
        {
          "output_type": "stream",
          "name": "stdout",
          "text": [
            " 13 anos de idade, a pessoa nao é maior de idade\n",
            " 37 anos de idade, a pessoa é maior de idade\n",
            " 30 anos de idade, a pessoa é maior de idade\n",
            " 9 anos de idade, a pessoa nao é maior de idade\n",
            " 45 anos de idade, a pessoa é maior de idade\n",
            " 5 anos de idade, a pessoa nao é maior de idade\n"
          ]
        }
      ]
    },
    {
      "cell_type": "markdown",
      "source": [
        "# Boleano\n"
      ],
      "metadata": {
        "id": "Ya8-gXoaEJ_X"
      }
    },
    {
      "cell_type": "code",
      "source": [
        "idade = 18\n",
        "idade >= 18"
      ],
      "metadata": {
        "colab": {
          "base_uri": "https://localhost:8080/"
        },
        "id": "3mLyfCod5QMX",
        "outputId": "1f6d600e-7997-4b5a-f44b-1ac54ae53c74"
      },
      "execution_count": 13,
      "outputs": [
        {
          "output_type": "execute_result",
          "data": {
            "text/plain": [
              "True"
            ]
          },
          "metadata": {},
          "execution_count": 13
        }
      ]
    },
    {
      "cell_type": "code",
      "source": [
        "permissoes = [ ]\n",
        "idades = [21, 12, 40]\n",
        "\n",
        "def verifica_se_e_maior_de(idades, permissoes):\n",
        "  for idade in idades:\n",
        "    if idade >= 18 :\n",
        "      permissoes.append(True)\n",
        "    else:\n",
        "      permissoes.append(False)\n",
        "verifica_se_e_maior_de(idades, permissoes)"
      ],
      "metadata": {
        "id": "S6edmhXeEMOx"
      },
      "execution_count": 16,
      "outputs": []
    },
    {
      "cell_type": "code",
      "source": [
        "permissoes"
      ],
      "metadata": {
        "colab": {
          "base_uri": "https://localhost:8080/"
        },
        "id": "vfl5JIBkI04Y",
        "outputId": "5668dac6-8c9f-4691-c89f-db43ce783b21"
      },
      "execution_count": 17,
      "outputs": [
        {
          "output_type": "execute_result",
          "data": {
            "text/plain": [
              "[True, False, True]"
            ]
          },
          "metadata": {},
          "execution_count": 17
        }
      ]
    },
    {
      "cell_type": "code",
      "source": [
        "for permissao in permissoes:\n",
        "  if permissao == True:\n",
        "    print('É maior de idade')\n",
        "  else:\n",
        "    print('Não é maior de idade')"
      ],
      "metadata": {
        "colab": {
          "base_uri": "https://localhost:8080/"
        },
        "id": "46vw0uZp59ld",
        "outputId": "c2b00dca-dc27-47e6-dd12-82668de7604b"
      },
      "execution_count": 19,
      "outputs": [
        {
          "output_type": "stream",
          "name": "stdout",
          "text": [
            "É maior de idade\n",
            "Não é maior de idade\n",
            "É maior de idade\n"
          ]
        }
      ]
    },
    {
      "cell_type": "markdown",
      "source": [
        "# Import\n"
      ],
      "metadata": {
        "id": "ORLp9bpOCICp"
      }
    },
    {
      "cell_type": "code",
      "source": [
        "from random import randrange, seed"
      ],
      "metadata": {
        "id": "IA9lFCEuCLsE"
      },
      "execution_count": 26,
      "outputs": []
    },
    {
      "cell_type": "code",
      "source": [
        "seed (11)\n"
      ],
      "metadata": {
        "id": "yXqSn4mfCm76"
      },
      "execution_count": 27,
      "outputs": []
    },
    {
      "cell_type": "code",
      "source": [
        "randrange(0, 11)"
      ],
      "metadata": {
        "colab": {
          "base_uri": "https://localhost:8080/"
        },
        "id": "XfZhjwqhCs9C",
        "outputId": "2291758e-1709-4b66-f82c-85e9be68e5c8"
      },
      "execution_count": 30,
      "outputs": [
        {
          "output_type": "execute_result",
          "data": {
            "text/plain": [
              "8"
            ]
          },
          "metadata": {},
          "execution_count": 30
        }
      ]
    },
    {
      "cell_type": "code",
      "source": [
        "notas_por_bimestre = []\n",
        "for notas in range(6):\n",
        "  notas_por_bimestre.append(randrange(0,11))\n",
        "notas_por_bimestre"
      ],
      "metadata": {
        "colab": {
          "base_uri": "https://localhost:8080/"
        },
        "id": "_4JlwnhuC63T",
        "outputId": "4cddc08e-ccff-471d-d79a-52ccb19f3ef8"
      },
      "execution_count": 71,
      "outputs": [
        {
          "output_type": "execute_result",
          "data": {
            "text/plain": [
              "[4, 7, 0, 10, 1, 7]"
            ]
          },
          "metadata": {},
          "execution_count": 71
        }
      ]
    },
    {
      "cell_type": "markdown",
      "source": [
        "# Matplolib"
      ],
      "metadata": {
        "id": "0BdeFZCWKHmf"
      }
    },
    {
      "cell_type": "code",
      "source": [
        "import matplotlib.pyplot as plt \n",
        "\n",
        "x = list(range(1, 7))\n",
        "y = notas_por_bimestre\n",
        "plt.plot(x, y, marker='o')\n",
        "plt.title('Notas do Bimestre')\n",
        "plt.xlabel('Bimestre')\n",
        "plt.ylabel('Notas')\n",
        "plt.show()\n"
      ],
      "metadata": {
        "colab": {
          "base_uri": "https://localhost:8080/",
          "height": 295
        },
        "id": "4Q01TF6nKOJD",
        "outputId": "a1c713a5-7017-457d-cf65-4615dfe7c274"
      },
      "execution_count": 77,
      "outputs": [
        {
          "output_type": "display_data",
          "data": {
            "text/plain": [
              "<Figure size 432x288 with 1 Axes>"
            ],
            "image/png": "[encoded data removed]"
          },
          "metadata": {
            "needs_background": "light"
          }
        }
      ]
    }
  ]
}