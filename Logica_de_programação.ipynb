{
  "nbformat": 4,
  "nbformat_minor": 0,
  "metadata": {
    "colab": {
      "name": "Logica de programação.ipynb",
      "provenance": [],
      "collapsed_sections": [],
      "include_colab_link": true
    },
    "kernelspec": {
      "name": "python3",
      "display_name": "Python 3"
    },
    "language_info": {
      "name": "python"
    }
  },
  "cells": [
    {
      "cell_type": "markdown",
      "metadata": {
        "id": "view-in-github",
        "colab_type": "text"
      },
      "source": [
        "<a href=\"https://colab.research.google.com/github/Allissonartur/Logica-Python/blob/main/Logica_de_programa%C3%A7%C3%A3o.ipynb\" target=\"_parent\"><img src=\"https://colab.research.google.com/assets/colab-badge.svg\" alt=\"Open In Colab\"/></a>"
      ]
    },
    {
      "cell_type": "markdown",
      "source": [
        "## Uma saudacao"
      ],
      "metadata": {
        "id": "Gk4YS8blpWTM"
      }
    },
    {
      "cell_type": "code",
      "source": [
        "from google.colab import drive\n",
        "drive.mount('/content/drive')"
      ],
      "metadata": {
        "colab": {
          "base_uri": "https://localhost:8080/"
        },
        "id": "mPlPRTvqYgxp",
        "outputId": "adcf7a4f-4b06-4a36-c70b-d89f882e9c70"
      },
      "execution_count": 79,
      "outputs": [
        {
          "output_type": "stream",
          "name": "stdout",
          "text": [
            "Mounted at /content/drive\n"
          ]
        }
      ]
    },
    {
      "cell_type": "code",
      "source": [
        "def saudacao ():  \n",
        "  nome = input('Qual o seu nome? ')\n",
        "  idade = input('Qual a sua idade? ')\n",
        "  cidade = input('Onde voce mora? ')\n",
        "  trabalho = input('Onde voce trabalha? ')\n",
        "  print(f'Ola {nome}, voce tem {idade}, mora em {cidade} e trabalha no {trabalho}')"
      ],
      "metadata": {
        "id": "w8S-Ni-Lpbdy"
      },
      "execution_count": 80,
      "outputs": []
    },
    {
      "cell_type": "code",
      "source": [
        "saudacao()"
      ],
      "metadata": {
        "colab": {
          "base_uri": "https://localhost:8080/"
        },
        "id": "_QQbH3G7qkb1",
        "outputId": "b5949785-6dbd-44a2-f744-b1d03e68e733"
      },
      "execution_count": 81,
      "outputs": [
        {
          "output_type": "stream",
          "name": "stdout",
          "text": [
            "Qual o seu nome? Allisson\n",
            "Qual a sua idade? 21\n",
            "Onde voce mora? Osasco -SP\n",
            "Onde voce trabalha? Bradesco\n",
            "Ola Allisson, voce tem 21, mora em Osasco -SP e trabalha no Bradesco\n"
          ]
        }
      ]
    },
    {
      "cell_type": "markdown",
      "source": [
        "# Condição\n"
      ],
      "metadata": {
        "id": "XuRvFIOY98Ei"
      }
    },
    {
      "cell_type": "code",
      "source": [
        "idade = 16\n",
        "\n",
        "\n",
        "def verifica_se_e_maior_de(idade): \n",
        "    if idade>=18:\n",
        "      print('A pessoa é maior de idade')\n",
        "    else:\n",
        "      print('A pessoa nao é maior de idade')"
      ],
      "metadata": {
        "id": "MJNb79qN9_AI"
      },
      "execution_count": 82,
      "outputs": []
    },
    {
      "cell_type": "code",
      "source": [
        "verifica_se_e_maior_de(idade)"
      ],
      "metadata": {
        "colab": {
          "base_uri": "https://localhost:8080/"
        },
        "id": "XUyhdBMC-zG4",
        "outputId": "8d171649-be03-43d7-f966-e40b0bf2fe97"
      },
      "execution_count": 83,
      "outputs": [
        {
          "output_type": "stream",
          "name": "stdout",
          "text": [
            "A pessoa nao é maior de idade\n"
          ]
        }
      ]
    },
    {
      "cell_type": "markdown",
      "source": [
        "# Convertendo tipo para inteiro\n"
      ],
      "metadata": {
        "id": "tA_IG_QODLK8"
      }
    },
    {
      "cell_type": "code",
      "source": [
        "def verifica_se_é_maior_de_parametro():\n",
        "  idade = input('Qual a sua idade? ')\n",
        "  idade = int(idade)\n",
        "  if idade >= 18:\n",
        "      print('E maior de idade')\n",
        "  else:\n",
        "      print('Nao e maior de idade')"
      ],
      "metadata": {
        "id": "U1UMTtmHDOzS"
      },
      "execution_count": 84,
      "outputs": []
    },
    {
      "cell_type": "code",
      "source": [
        "verifica_se_é_maior_de_parametro()"
      ],
      "metadata": {
        "colab": {
          "base_uri": "https://localhost:8080/"
        },
        "id": "nNfy2LI7EU91",
        "outputId": "e745e603-ed12-41f1-a6d5-1187cd4375af"
      },
      "execution_count": 86,
      "outputs": [
        {
          "output_type": "stream",
          "name": "stdout",
          "text": [
            "Qual a sua idade? 21\n",
            "E maior de idade\n"
          ]
        }
      ]
    },
    {
      "cell_type": "markdown",
      "source": [
        "# Lista\n"
      ],
      "metadata": {
        "id": "HkYeMjSc-RRR"
      }
    },
    {
      "cell_type": "code",
      "source": [
        "idades = [ 13, 37, 30, 9, 45, 5 ]\n",
        "type (idades)"
      ],
      "metadata": {
        "colab": {
          "base_uri": "https://localhost:8080/"
        },
        "id": "Ec7bLYeN-UiC",
        "outputId": "df18c31e-8cd3-4496-d161-d8f919274f96"
      },
      "execution_count": 87,
      "outputs": [
        {
          "output_type": "execute_result",
          "data": {
            "text/plain": [
              "list"
            ]
          },
          "metadata": {},
          "execution_count": 87
        }
      ]
    },
    {
      "cell_type": "code",
      "source": [
        "idades"
      ],
      "metadata": {
        "colab": {
          "base_uri": "https://localhost:8080/"
        },
        "id": "HuV5JGW4-ry7",
        "outputId": "3289618d-4e4c-49f3-d8d1-b031356137de"
      },
      "execution_count": 88,
      "outputs": [
        {
          "output_type": "execute_result",
          "data": {
            "text/plain": [
              "[13, 37, 30, 9, 45, 5]"
            ]
          },
          "metadata": {},
          "execution_count": 88
        }
      ]
    },
    {
      "cell_type": "code",
      "source": [
        "def verifica_se_é_maior_de(idade): \n",
        "    if idade>=18:\n",
        "      print(f' {idade} anos de idade, a pessoa é maior de idade')\n",
        "    else:\n",
        "      print(f' {idade} anos de idade, a pessoa nao é maior de idade')\n",
        "\n",
        "for idade in idades:\n",
        "    verifica_se_é_maior_de(idade)"
      ],
      "metadata": {
        "colab": {
          "base_uri": "https://localhost:8080/"
        },
        "id": "BckoAiB-_GMw",
        "outputId": "308f2773-c85c-4d4e-f656-855c581dc4a4"
      },
      "execution_count": 89,
      "outputs": [
        {
          "output_type": "stream",
          "name": "stdout",
          "text": [
            " 13 anos de idade, a pessoa nao é maior de idade\n",
            " 37 anos de idade, a pessoa é maior de idade\n",
            " 30 anos de idade, a pessoa é maior de idade\n",
            " 9 anos de idade, a pessoa nao é maior de idade\n",
            " 45 anos de idade, a pessoa é maior de idade\n",
            " 5 anos de idade, a pessoa nao é maior de idade\n"
          ]
        }
      ]
    },
    {
      "cell_type": "code",
      "source": [
        "def verifica_se_é_maior_de(idades):\n",
        " for idade in idades:\n",
        "    if idade>=18:\n",
        "      print(f' {idade} anos de idade, a pessoa é maior de idade')\n",
        "    else:\n",
        "      print(f' {idade} anos de idade, a pessoa nao é maior de idade')\n",
        "\n",
        "verifica_se_é_maior_de(idades)"
      ],
      "metadata": {
        "colab": {
          "base_uri": "https://localhost:8080/"
        },
        "id": "RWJC1THJ_eNY",
        "outputId": "2e198b92-1d0e-4bc4-96c1-313a25adb7d7"
      },
      "execution_count": 90,
      "outputs": [
        {
          "output_type": "stream",
          "name": "stdout",
          "text": [
            " 13 anos de idade, a pessoa nao é maior de idade\n",
            " 37 anos de idade, a pessoa é maior de idade\n",
            " 30 anos de idade, a pessoa é maior de idade\n",
            " 9 anos de idade, a pessoa nao é maior de idade\n",
            " 45 anos de idade, a pessoa é maior de idade\n",
            " 5 anos de idade, a pessoa nao é maior de idade\n"
          ]
        }
      ]
    },
    {
      "cell_type": "markdown",
      "source": [
        "# Boleano\n"
      ],
      "metadata": {
        "id": "Ya8-gXoaEJ_X"
      }
    },
    {
      "cell_type": "code",
      "source": [
        "idade = 18\n",
        "idade >= 18"
      ],
      "metadata": {
        "colab": {
          "base_uri": "https://localhost:8080/"
        },
        "id": "3mLyfCod5QMX",
        "outputId": "50358a11-c9db-438f-ba5e-a74ea487cd16"
      },
      "execution_count": 91,
      "outputs": [
        {
          "output_type": "execute_result",
          "data": {
            "text/plain": [
              "True"
            ]
          },
          "metadata": {},
          "execution_count": 91
        }
      ]
    },
    {
      "cell_type": "code",
      "source": [
        "permissoes = [ ]\n",
        "idades = [21, 12, 40]\n",
        "\n",
        "def verifica_se_e_maior_de(idades, permissoes):\n",
        "  for idade in idades:\n",
        "    if idade >= 18 :\n",
        "      permissoes.append(True)\n",
        "    else:\n",
        "      permissoes.append(False)\n",
        "verifica_se_e_maior_de(idades, permissoes)"
      ],
      "metadata": {
        "id": "S6edmhXeEMOx"
      },
      "execution_count": 92,
      "outputs": []
    },
    {
      "cell_type": "code",
      "source": [
        "permissoes"
      ],
      "metadata": {
        "colab": {
          "base_uri": "https://localhost:8080/"
        },
        "id": "vfl5JIBkI04Y",
        "outputId": "98487fe3-57b0-46f9-bd5b-fb0c8aa9073f"
      },
      "execution_count": 93,
      "outputs": [
        {
          "output_type": "execute_result",
          "data": {
            "text/plain": [
              "[True, False, True]"
            ]
          },
          "metadata": {},
          "execution_count": 93
        }
      ]
    },
    {
      "cell_type": "code",
      "source": [
        "for permissao in permissoes:\n",
        "  if permissao == True:\n",
        "    print('É maior de idade')\n",
        "  else:\n",
        "    print('Não é maior de idade')"
      ],
      "metadata": {
        "colab": {
          "base_uri": "https://localhost:8080/"
        },
        "id": "46vw0uZp59ld",
        "outputId": "ce67d2b6-95c4-4802-d11e-326c577f1d2b"
      },
      "execution_count": 94,
      "outputs": [
        {
          "output_type": "stream",
          "name": "stdout",
          "text": [
            "É maior de idade\n",
            "Não é maior de idade\n",
            "É maior de idade\n"
          ]
        }
      ]
    },
    {
      "cell_type": "markdown",
      "source": [
        "# Import\n"
      ],
      "metadata": {
        "id": "ORLp9bpOCICp"
      }
    },
    {
      "cell_type": "code",
      "source": [
        "from random import randrange, seed"
      ],
      "metadata": {
        "id": "IA9lFCEuCLsE"
      },
      "execution_count": 95,
      "outputs": []
    },
    {
      "cell_type": "code",
      "source": [
        "seed (11)\n"
      ],
      "metadata": {
        "id": "yXqSn4mfCm76"
      },
      "execution_count": 96,
      "outputs": []
    },
    {
      "cell_type": "code",
      "source": [
        "randrange(0, 11)"
      ],
      "metadata": {
        "colab": {
          "base_uri": "https://localhost:8080/"
        },
        "id": "XfZhjwqhCs9C",
        "outputId": "909e4c17-9e91-44e2-aebc-b0239e2fad89"
      },
      "execution_count": 97,
      "outputs": [
        {
          "output_type": "execute_result",
          "data": {
            "text/plain": [
              "7"
            ]
          },
          "metadata": {},
          "execution_count": 97
        }
      ]
    },
    {
      "cell_type": "code",
      "source": [
        "notas_por_bimestre = []\n",
        "for notas in range(5):\n",
        "  notas_por_bimestre.append(randrange(0,11))\n",
        "notas_por_bimestre"
      ],
      "metadata": {
        "colab": {
          "base_uri": "https://localhost:8080/"
        },
        "id": "_4JlwnhuC63T",
        "outputId": "2f82c87c-be39-4bba-ca84-069ae644ed35"
      },
      "execution_count": 100,
      "outputs": [
        {
          "output_type": "execute_result",
          "data": {
            "text/plain": [
              "[2, 8, 7, 10, 9]"
            ]
          },
          "metadata": {},
          "execution_count": 100
        }
      ]
    },
    {
      "cell_type": "markdown",
      "source": [
        "# Matplolib"
      ],
      "metadata": {
        "id": "0BdeFZCWKHmf"
      }
    },
    {
      "cell_type": "code",
      "source": [
        "import matplotlib.pyplot as plt \n",
        "\n",
        "x = list(range(1, 6))\n",
        "y = notas_por_bimestre\n",
        "plt.plot(x, y, marker='o')\n",
        "plt.title('Notas do Bimestre')\n",
        "plt.xlabel('Bimestre')\n",
        "plt.ylabel('Notas')\n",
        "plt.show()\n"
      ],
      "metadata": {
        "colab": {
          "base_uri": "https://localhost:8080/",
          "height": 295
        },
        "id": "4Q01TF6nKOJD",
        "outputId": "119aea99-f1d1-45f9-85ff-5ca9d9254665"
      },
      "execution_count": 102,
      "outputs": [
        {
          "output_type": "display_data",
          "data": {
            "text/plain": [
              "<Figure size 432x288 with 1 Axes>"
            ],
            "image/png": "[encoded data removed]"
          },
          "metadata": {
            "needs_background": "light"
          }
        }
      ]
    }
  ]
}